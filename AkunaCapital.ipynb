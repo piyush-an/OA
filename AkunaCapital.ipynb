{
  "metadata": {
    "language_info": {
      "codemirror_mode": {
        "name": "python",
        "version": 3
      },
      "file_extension": ".py",
      "mimetype": "text/x-python",
      "name": "python",
      "nbconvert_exporter": "python",
      "pygments_lexer": "ipython3",
      "version": "3.8"
    },
    "kernelspec": {
      "name": "python",
      "display_name": "Python (Pyodide)",
      "language": "python"
    },
    "colab": {
      "provenance": [],
      "include_colab_link": true
    }
  },
  "nbformat_minor": 0,
  "nbformat": 4,
  "cells": [
    {
      "cell_type": "markdown",
      "metadata": {
        "id": "view-in-github",
        "colab_type": "text"
      },
      "source": [
        "<a href=\"https://colab.research.google.com/github/piyush-an/OA/blob/main/AkunaCapital.ipynb\" target=\"_parent\"><img src=\"https://colab.research.google.com/assets/colab-badge.svg\" alt=\"Open In Colab\"/></a>"
      ]
    },
    {
      "cell_type": "code",
      "source": [
        "import pandas as pd"
      ],
      "metadata": {
        "trusted": true,
        "id": "kpa1I_PPo2O1"
      },
      "execution_count": null,
      "outputs": []
    },
    {
      "cell_type": "code",
      "source": [
        "data = [['sch_1', '!@sc_1', 'english maths chemistry'], ['sch_3', '!@sc_2', 'maths biology'], ['sch_2', ')) sc_2', 'english physics chemistry'], ['sch_11', 'sc4', 'english maths chemistry'], ['sch_4', 'sc_2)', 'french physics social_studies'], ['sch_5', 'sc_3#@', 'social_studies maths literature'], ['sch_21', ')) sc_2', 'english physics chemistry'], ['sch_6', '!@sc_2', 'maths biology'], ['sch_14', 'sc_2)', 'french maths english physics'], ['sch_8', 'sc_4#@', 'social_studies maths literature']]"
      ],
      "metadata": {
        "trusted": true,
        "id": "B8fe_k7So2O4"
      },
      "execution_count": null,
      "outputs": []
    },
    {
      "cell_type": "code",
      "source": [
        "df = pd.DataFrame(data, columns=['school_id', 'state_code', 'subjects'])"
      ],
      "metadata": {
        "trusted": true,
        "id": "RwPJKXv2o2O7"
      },
      "execution_count": null,
      "outputs": []
    },
    {
      "cell_type": "code",
      "source": [
        "df"
      ],
      "metadata": {
        "trusted": true,
        "id": "6K7zgKD-o2O-",
        "outputId": "39e95054-94fd-4a9c-b3b4-0a516eca9e58",
        "colab": {
          "base_uri": "https://localhost:8080/",
          "height": 359
        }
      },
      "execution_count": null,
      "outputs": [
        {
          "output_type": "execute_result",
          "data": {
            "text/plain": [
              "  school_id state_code                         subjects\n",
              "0     sch_1     !@sc_1          english maths chemistry\n",
              "1     sch_3     !@sc_2                    maths biology\n",
              "2     sch_2    )) sc_2        english physics chemistry\n",
              "3    sch_11        sc4          english maths chemistry\n",
              "4     sch_4      sc_2)    french physics social_studies\n",
              "5     sch_5     sc_3#@  social_studies maths literature\n",
              "6    sch_21    )) sc_2        english physics chemistry\n",
              "7     sch_6     !@sc_2                    maths biology\n",
              "8    sch_14      sc_2)     french maths english physics\n",
              "9     sch_8     sc_4#@  social_studies maths literature"
            ],
            "text/html": [
              "\n",
              "  <div id=\"df-3c036131-30e5-4138-b512-d7917974fbbe\">\n",
              "    <div class=\"colab-df-container\">\n",
              "      <div>\n",
              "<style scoped>\n",
              "    .dataframe tbody tr th:only-of-type {\n",
              "        vertical-align: middle;\n",
              "    }\n",
              "\n",
              "    .dataframe tbody tr th {\n",
              "        vertical-align: top;\n",
              "    }\n",
              "\n",
              "    .dataframe thead th {\n",
              "        text-align: right;\n",
              "    }\n",
              "</style>\n",
              "<table border=\"1\" class=\"dataframe\">\n",
              "  <thead>\n",
              "    <tr style=\"text-align: right;\">\n",
              "      <th></th>\n",
              "      <th>school_id</th>\n",
              "      <th>state_code</th>\n",
              "      <th>subjects</th>\n",
              "    </tr>\n",
              "  </thead>\n",
              "  <tbody>\n",
              "    <tr>\n",
              "      <th>0</th>\n",
              "      <td>sch_1</td>\n",
              "      <td>!@sc_1</td>\n",
              "      <td>english maths chemistry</td>\n",
              "    </tr>\n",
              "    <tr>\n",
              "      <th>1</th>\n",
              "      <td>sch_3</td>\n",
              "      <td>!@sc_2</td>\n",
              "      <td>maths biology</td>\n",
              "    </tr>\n",
              "    <tr>\n",
              "      <th>2</th>\n",
              "      <td>sch_2</td>\n",
              "      <td>)) sc_2</td>\n",
              "      <td>english physics chemistry</td>\n",
              "    </tr>\n",
              "    <tr>\n",
              "      <th>3</th>\n",
              "      <td>sch_11</td>\n",
              "      <td>sc4</td>\n",
              "      <td>english maths chemistry</td>\n",
              "    </tr>\n",
              "    <tr>\n",
              "      <th>4</th>\n",
              "      <td>sch_4</td>\n",
              "      <td>sc_2)</td>\n",
              "      <td>french physics social_studies</td>\n",
              "    </tr>\n",
              "    <tr>\n",
              "      <th>5</th>\n",
              "      <td>sch_5</td>\n",
              "      <td>sc_3#@</td>\n",
              "      <td>social_studies maths literature</td>\n",
              "    </tr>\n",
              "    <tr>\n",
              "      <th>6</th>\n",
              "      <td>sch_21</td>\n",
              "      <td>)) sc_2</td>\n",
              "      <td>english physics chemistry</td>\n",
              "    </tr>\n",
              "    <tr>\n",
              "      <th>7</th>\n",
              "      <td>sch_6</td>\n",
              "      <td>!@sc_2</td>\n",
              "      <td>maths biology</td>\n",
              "    </tr>\n",
              "    <tr>\n",
              "      <th>8</th>\n",
              "      <td>sch_14</td>\n",
              "      <td>sc_2)</td>\n",
              "      <td>french maths english physics</td>\n",
              "    </tr>\n",
              "    <tr>\n",
              "      <th>9</th>\n",
              "      <td>sch_8</td>\n",
              "      <td>sc_4#@</td>\n",
              "      <td>social_studies maths literature</td>\n",
              "    </tr>\n",
              "  </tbody>\n",
              "</table>\n",
              "</div>\n",
              "      <button class=\"colab-df-convert\" onclick=\"convertToInteractive('df-3c036131-30e5-4138-b512-d7917974fbbe')\"\n",
              "              title=\"Convert this dataframe to an interactive table.\"\n",
              "              style=\"display:none;\">\n",
              "        \n",
              "  <svg xmlns=\"http://www.w3.org/2000/svg\" height=\"24px\"viewBox=\"0 0 24 24\"\n",
              "       width=\"24px\">\n",
              "    <path d=\"M0 0h24v24H0V0z\" fill=\"none\"/>\n",
              "    <path d=\"M18.56 5.44l.94 2.06.94-2.06 2.06-.94-2.06-.94-.94-2.06-.94 2.06-2.06.94zm-11 1L8.5 8.5l.94-2.06 2.06-.94-2.06-.94L8.5 2.5l-.94 2.06-2.06.94zm10 10l.94 2.06.94-2.06 2.06-.94-2.06-.94-.94-2.06-.94 2.06-2.06.94z\"/><path d=\"M17.41 7.96l-1.37-1.37c-.4-.4-.92-.59-1.43-.59-.52 0-1.04.2-1.43.59L10.3 9.45l-7.72 7.72c-.78.78-.78 2.05 0 2.83L4 21.41c.39.39.9.59 1.41.59.51 0 1.02-.2 1.41-.59l7.78-7.78 2.81-2.81c.8-.78.8-2.07 0-2.86zM5.41 20L4 18.59l7.72-7.72 1.47 1.35L5.41 20z\"/>\n",
              "  </svg>\n",
              "      </button>\n",
              "      \n",
              "  <style>\n",
              "    .colab-df-container {\n",
              "      display:flex;\n",
              "      flex-wrap:wrap;\n",
              "      gap: 12px;\n",
              "    }\n",
              "\n",
              "    .colab-df-convert {\n",
              "      background-color: #E8F0FE;\n",
              "      border: none;\n",
              "      border-radius: 50%;\n",
              "      cursor: pointer;\n",
              "      display: none;\n",
              "      fill: #1967D2;\n",
              "      height: 32px;\n",
              "      padding: 0 0 0 0;\n",
              "      width: 32px;\n",
              "    }\n",
              "\n",
              "    .colab-df-convert:hover {\n",
              "      background-color: #E2EBFA;\n",
              "      box-shadow: 0px 1px 2px rgba(60, 64, 67, 0.3), 0px 1px 3px 1px rgba(60, 64, 67, 0.15);\n",
              "      fill: #174EA6;\n",
              "    }\n",
              "\n",
              "    [theme=dark] .colab-df-convert {\n",
              "      background-color: #3B4455;\n",
              "      fill: #D2E3FC;\n",
              "    }\n",
              "\n",
              "    [theme=dark] .colab-df-convert:hover {\n",
              "      background-color: #434B5C;\n",
              "      box-shadow: 0px 1px 3px 1px rgba(0, 0, 0, 0.15);\n",
              "      filter: drop-shadow(0px 1px 2px rgba(0, 0, 0, 0.3));\n",
              "      fill: #FFFFFF;\n",
              "    }\n",
              "  </style>\n",
              "\n",
              "      <script>\n",
              "        const buttonEl =\n",
              "          document.querySelector('#df-3c036131-30e5-4138-b512-d7917974fbbe button.colab-df-convert');\n",
              "        buttonEl.style.display =\n",
              "          google.colab.kernel.accessAllowed ? 'block' : 'none';\n",
              "\n",
              "        async function convertToInteractive(key) {\n",
              "          const element = document.querySelector('#df-3c036131-30e5-4138-b512-d7917974fbbe');\n",
              "          const dataTable =\n",
              "            await google.colab.kernel.invokeFunction('convertToInteractive',\n",
              "                                                     [key], {});\n",
              "          if (!dataTable) return;\n",
              "\n",
              "          const docLinkHtml = 'Like what you see? Visit the ' +\n",
              "            '<a target=\"_blank\" href=https://colab.research.google.com/notebooks/data_table.ipynb>data table notebook</a>'\n",
              "            + ' to learn more about interactive tables.';\n",
              "          element.innerHTML = '';\n",
              "          dataTable['output_type'] = 'display_data';\n",
              "          await google.colab.output.renderOutput(dataTable, element);\n",
              "          const docLink = document.createElement('div');\n",
              "          docLink.innerHTML = docLinkHtml;\n",
              "          element.appendChild(docLink);\n",
              "        }\n",
              "      </script>\n",
              "    </div>\n",
              "  </div>\n",
              "  "
            ]
          },
          "metadata": {},
          "execution_count": 4
        }
      ]
    },
    {
      "cell_type": "markdown",
      "source": [
        "## Step1: Filter `subjects` more than 3 subjects"
      ],
      "metadata": {
        "id": "skPSImjMo2PE"
      }
    },
    {
      "cell_type": "code",
      "source": [
        "df = df[df.subjects.str.split().str.len().gt(2)]"
      ],
      "metadata": {
        "trusted": true,
        "id": "tXYova7Ro2PK"
      },
      "execution_count": null,
      "outputs": []
    },
    {
      "cell_type": "code",
      "source": [
        "df"
      ],
      "metadata": {
        "trusted": true,
        "id": "GCKm5mq1o2PP",
        "outputId": "663f74c3-d409-48e8-991f-6f0d79f1acfe",
        "colab": {
          "base_uri": "https://localhost:8080/",
          "height": 297
        }
      },
      "execution_count": null,
      "outputs": [
        {
          "output_type": "execute_result",
          "data": {
            "text/plain": [
              "  school_id state_code                         subjects\n",
              "0     sch_1     !@sc_1          english maths chemistry\n",
              "2     sch_2    )) sc_2        english physics chemistry\n",
              "3    sch_11        sc4          english maths chemistry\n",
              "4     sch_4      sc_2)    french physics social_studies\n",
              "5     sch_5     sc_3#@  social_studies maths literature\n",
              "6    sch_21    )) sc_2        english physics chemistry\n",
              "8    sch_14      sc_2)     french maths english physics\n",
              "9     sch_8     sc_4#@  social_studies maths literature"
            ],
            "text/html": [
              "\n",
              "  <div id=\"df-103894db-320f-45da-a4e5-1887ebbd025d\">\n",
              "    <div class=\"colab-df-container\">\n",
              "      <div>\n",
              "<style scoped>\n",
              "    .dataframe tbody tr th:only-of-type {\n",
              "        vertical-align: middle;\n",
              "    }\n",
              "\n",
              "    .dataframe tbody tr th {\n",
              "        vertical-align: top;\n",
              "    }\n",
              "\n",
              "    .dataframe thead th {\n",
              "        text-align: right;\n",
              "    }\n",
              "</style>\n",
              "<table border=\"1\" class=\"dataframe\">\n",
              "  <thead>\n",
              "    <tr style=\"text-align: right;\">\n",
              "      <th></th>\n",
              "      <th>school_id</th>\n",
              "      <th>state_code</th>\n",
              "      <th>subjects</th>\n",
              "    </tr>\n",
              "  </thead>\n",
              "  <tbody>\n",
              "    <tr>\n",
              "      <th>0</th>\n",
              "      <td>sch_1</td>\n",
              "      <td>!@sc_1</td>\n",
              "      <td>english maths chemistry</td>\n",
              "    </tr>\n",
              "    <tr>\n",
              "      <th>2</th>\n",
              "      <td>sch_2</td>\n",
              "      <td>)) sc_2</td>\n",
              "      <td>english physics chemistry</td>\n",
              "    </tr>\n",
              "    <tr>\n",
              "      <th>3</th>\n",
              "      <td>sch_11</td>\n",
              "      <td>sc4</td>\n",
              "      <td>english maths chemistry</td>\n",
              "    </tr>\n",
              "    <tr>\n",
              "      <th>4</th>\n",
              "      <td>sch_4</td>\n",
              "      <td>sc_2)</td>\n",
              "      <td>french physics social_studies</td>\n",
              "    </tr>\n",
              "    <tr>\n",
              "      <th>5</th>\n",
              "      <td>sch_5</td>\n",
              "      <td>sc_3#@</td>\n",
              "      <td>social_studies maths literature</td>\n",
              "    </tr>\n",
              "    <tr>\n",
              "      <th>6</th>\n",
              "      <td>sch_21</td>\n",
              "      <td>)) sc_2</td>\n",
              "      <td>english physics chemistry</td>\n",
              "    </tr>\n",
              "    <tr>\n",
              "      <th>8</th>\n",
              "      <td>sch_14</td>\n",
              "      <td>sc_2)</td>\n",
              "      <td>french maths english physics</td>\n",
              "    </tr>\n",
              "    <tr>\n",
              "      <th>9</th>\n",
              "      <td>sch_8</td>\n",
              "      <td>sc_4#@</td>\n",
              "      <td>social_studies maths literature</td>\n",
              "    </tr>\n",
              "  </tbody>\n",
              "</table>\n",
              "</div>\n",
              "      <button class=\"colab-df-convert\" onclick=\"convertToInteractive('df-103894db-320f-45da-a4e5-1887ebbd025d')\"\n",
              "              title=\"Convert this dataframe to an interactive table.\"\n",
              "              style=\"display:none;\">\n",
              "        \n",
              "  <svg xmlns=\"http://www.w3.org/2000/svg\" height=\"24px\"viewBox=\"0 0 24 24\"\n",
              "       width=\"24px\">\n",
              "    <path d=\"M0 0h24v24H0V0z\" fill=\"none\"/>\n",
              "    <path d=\"M18.56 5.44l.94 2.06.94-2.06 2.06-.94-2.06-.94-.94-2.06-.94 2.06-2.06.94zm-11 1L8.5 8.5l.94-2.06 2.06-.94-2.06-.94L8.5 2.5l-.94 2.06-2.06.94zm10 10l.94 2.06.94-2.06 2.06-.94-2.06-.94-.94-2.06-.94 2.06-2.06.94z\"/><path d=\"M17.41 7.96l-1.37-1.37c-.4-.4-.92-.59-1.43-.59-.52 0-1.04.2-1.43.59L10.3 9.45l-7.72 7.72c-.78.78-.78 2.05 0 2.83L4 21.41c.39.39.9.59 1.41.59.51 0 1.02-.2 1.41-.59l7.78-7.78 2.81-2.81c.8-.78.8-2.07 0-2.86zM5.41 20L4 18.59l7.72-7.72 1.47 1.35L5.41 20z\"/>\n",
              "  </svg>\n",
              "      </button>\n",
              "      \n",
              "  <style>\n",
              "    .colab-df-container {\n",
              "      display:flex;\n",
              "      flex-wrap:wrap;\n",
              "      gap: 12px;\n",
              "    }\n",
              "\n",
              "    .colab-df-convert {\n",
              "      background-color: #E8F0FE;\n",
              "      border: none;\n",
              "      border-radius: 50%;\n",
              "      cursor: pointer;\n",
              "      display: none;\n",
              "      fill: #1967D2;\n",
              "      height: 32px;\n",
              "      padding: 0 0 0 0;\n",
              "      width: 32px;\n",
              "    }\n",
              "\n",
              "    .colab-df-convert:hover {\n",
              "      background-color: #E2EBFA;\n",
              "      box-shadow: 0px 1px 2px rgba(60, 64, 67, 0.3), 0px 1px 3px 1px rgba(60, 64, 67, 0.15);\n",
              "      fill: #174EA6;\n",
              "    }\n",
              "\n",
              "    [theme=dark] .colab-df-convert {\n",
              "      background-color: #3B4455;\n",
              "      fill: #D2E3FC;\n",
              "    }\n",
              "\n",
              "    [theme=dark] .colab-df-convert:hover {\n",
              "      background-color: #434B5C;\n",
              "      box-shadow: 0px 1px 3px 1px rgba(0, 0, 0, 0.15);\n",
              "      filter: drop-shadow(0px 1px 2px rgba(0, 0, 0, 0.3));\n",
              "      fill: #FFFFFF;\n",
              "    }\n",
              "  </style>\n",
              "\n",
              "      <script>\n",
              "        const buttonEl =\n",
              "          document.querySelector('#df-103894db-320f-45da-a4e5-1887ebbd025d button.colab-df-convert');\n",
              "        buttonEl.style.display =\n",
              "          google.colab.kernel.accessAllowed ? 'block' : 'none';\n",
              "\n",
              "        async function convertToInteractive(key) {\n",
              "          const element = document.querySelector('#df-103894db-320f-45da-a4e5-1887ebbd025d');\n",
              "          const dataTable =\n",
              "            await google.colab.kernel.invokeFunction('convertToInteractive',\n",
              "                                                     [key], {});\n",
              "          if (!dataTable) return;\n",
              "\n",
              "          const docLinkHtml = 'Like what you see? Visit the ' +\n",
              "            '<a target=\"_blank\" href=https://colab.research.google.com/notebooks/data_table.ipynb>data table notebook</a>'\n",
              "            + ' to learn more about interactive tables.';\n",
              "          element.innerHTML = '';\n",
              "          dataTable['output_type'] = 'display_data';\n",
              "          await google.colab.output.renderOutput(dataTable, element);\n",
              "          const docLink = document.createElement('div');\n",
              "          docLink.innerHTML = docLinkHtml;\n",
              "          element.appendChild(docLink);\n",
              "        }\n",
              "      </script>\n",
              "    </div>\n",
              "  </div>\n",
              "  "
            ]
          },
          "metadata": {},
          "execution_count": 6
        }
      ]
    },
    {
      "cell_type": "markdown",
      "source": [
        "## Step2: Filter `state_code` alpha-numeric"
      ],
      "metadata": {
        "id": "JrQvjPNLo2PR"
      }
    },
    {
      "cell_type": "code",
      "source": [
        "df['state_code'] = df.state_code.str.replace('[^a-zA-Z0-9]', '')"
      ],
      "metadata": {
        "trusted": true,
        "id": "1bgPLAF0o2PV",
        "outputId": "f04ce0ce-06dd-4a36-e891-1d65416e64c0"
      },
      "execution_count": null,
      "outputs": [
        {
          "name": "stderr",
          "text": "<ipython-input-23-8e366f2c8785>:1: FutureWarning: The default value of regex will change from True to False in a future version.\n  df['state_code'] = df.state_code.str.replace('[^a-zA-Z0-9]', '')\n<ipython-input-23-8e366f2c8785>:1: SettingWithCopyWarning: \nA value is trying to be set on a copy of a slice from a DataFrame.\nTry using .loc[row_indexer,col_indexer] = value instead\n\nSee the caveats in the documentation: https://pandas.pydata.org/pandas-docs/stable/user_guide/indexing.html#returning-a-view-versus-a-copy\n  df['state_code'] = df.state_code.str.replace('[^a-zA-Z0-9]', '')\n",
          "output_type": "stream"
        }
      ]
    },
    {
      "cell_type": "code",
      "source": [
        "df"
      ],
      "metadata": {
        "trusted": true,
        "id": "UmWlmIrCo2PX",
        "outputId": "fdea298d-cb58-4802-f971-7001857a7ade"
      },
      "execution_count": null,
      "outputs": [
        {
          "execution_count": 24,
          "output_type": "execute_result",
          "data": {
            "text/plain": "  school_id state_code                         subjects\n0     sch_1        sc1          english maths chemistry\n2     sch_2        sc2        english physics chemistry\n3    sch_11        sc4          english maths chemistry\n4     sch_4        sc2    french physics social_studies\n5     sch_5        sc3  social_studies maths literature\n6    sch_21        sc2        english physics chemistry\n8    sch_14        sc2     french maths english physics\n9     sch_8        sc4  social_studies maths literature",
            "text/html": "<div>\n<style scoped>\n    .dataframe tbody tr th:only-of-type {\n        vertical-align: middle;\n    }\n\n    .dataframe tbody tr th {\n        vertical-align: top;\n    }\n\n    .dataframe thead th {\n        text-align: right;\n    }\n</style>\n<table border=\"1\" class=\"dataframe\">\n  <thead>\n    <tr style=\"text-align: right;\">\n      <th></th>\n      <th>school_id</th>\n      <th>state_code</th>\n      <th>subjects</th>\n    </tr>\n  </thead>\n  <tbody>\n    <tr>\n      <th>0</th>\n      <td>sch_1</td>\n      <td>sc1</td>\n      <td>english maths chemistry</td>\n    </tr>\n    <tr>\n      <th>2</th>\n      <td>sch_2</td>\n      <td>sc2</td>\n      <td>english physics chemistry</td>\n    </tr>\n    <tr>\n      <th>3</th>\n      <td>sch_11</td>\n      <td>sc4</td>\n      <td>english maths chemistry</td>\n    </tr>\n    <tr>\n      <th>4</th>\n      <td>sch_4</td>\n      <td>sc2</td>\n      <td>french physics social_studies</td>\n    </tr>\n    <tr>\n      <th>5</th>\n      <td>sch_5</td>\n      <td>sc3</td>\n      <td>social_studies maths literature</td>\n    </tr>\n    <tr>\n      <th>6</th>\n      <td>sch_21</td>\n      <td>sc2</td>\n      <td>english physics chemistry</td>\n    </tr>\n    <tr>\n      <th>8</th>\n      <td>sch_14</td>\n      <td>sc2</td>\n      <td>french maths english physics</td>\n    </tr>\n    <tr>\n      <th>9</th>\n      <td>sch_8</td>\n      <td>sc4</td>\n      <td>social_studies maths literature</td>\n    </tr>\n  </tbody>\n</table>\n</div>"
          },
          "metadata": {}
        }
      ]
    },
    {
      "cell_type": "code",
      "source": [
        "df = (df.set_index(['school_id', 'state_code'])\n",
        "   .apply(lambda x: x.str.split(' ').explode())\n",
        "   .reset_index()) "
      ],
      "metadata": {
        "trusted": true,
        "id": "qziToBXmo2Pa"
      },
      "execution_count": null,
      "outputs": []
    },
    {
      "cell_type": "code",
      "source": [
        "df"
      ],
      "metadata": {
        "trusted": true,
        "id": "nCAZaAMLo2Pb",
        "outputId": "376c2d43-4cab-43cf-8fe8-09709d8db6c6"
      },
      "execution_count": null,
      "outputs": [
        {
          "execution_count": 31,
          "output_type": "execute_result",
          "data": {
            "text/plain": "   school_id state_code        subjects\n0      sch_1        sc1         english\n1      sch_1        sc1           maths\n2      sch_1        sc1       chemistry\n3      sch_2        sc2         english\n4      sch_2        sc2         physics\n5      sch_2        sc2       chemistry\n6     sch_11        sc4         english\n7     sch_11        sc4           maths\n8     sch_11        sc4       chemistry\n9      sch_4        sc2          french\n10     sch_4        sc2         physics\n11     sch_4        sc2  social_studies\n12     sch_5        sc3  social_studies\n13     sch_5        sc3           maths\n14     sch_5        sc3      literature\n15    sch_21        sc2         english\n16    sch_21        sc2         physics\n17    sch_21        sc2       chemistry\n18    sch_14        sc2          french\n19    sch_14        sc2           maths\n20    sch_14        sc2         english\n21    sch_14        sc2         physics\n22     sch_8        sc4  social_studies\n23     sch_8        sc4           maths\n24     sch_8        sc4      literature",
            "text/html": "<div>\n<style scoped>\n    .dataframe tbody tr th:only-of-type {\n        vertical-align: middle;\n    }\n\n    .dataframe tbody tr th {\n        vertical-align: top;\n    }\n\n    .dataframe thead th {\n        text-align: right;\n    }\n</style>\n<table border=\"1\" class=\"dataframe\">\n  <thead>\n    <tr style=\"text-align: right;\">\n      <th></th>\n      <th>school_id</th>\n      <th>state_code</th>\n      <th>subjects</th>\n    </tr>\n  </thead>\n  <tbody>\n    <tr>\n      <th>0</th>\n      <td>sch_1</td>\n      <td>sc1</td>\n      <td>english</td>\n    </tr>\n    <tr>\n      <th>1</th>\n      <td>sch_1</td>\n      <td>sc1</td>\n      <td>maths</td>\n    </tr>\n    <tr>\n      <th>2</th>\n      <td>sch_1</td>\n      <td>sc1</td>\n      <td>chemistry</td>\n    </tr>\n    <tr>\n      <th>3</th>\n      <td>sch_2</td>\n      <td>sc2</td>\n      <td>english</td>\n    </tr>\n    <tr>\n      <th>4</th>\n      <td>sch_2</td>\n      <td>sc2</td>\n      <td>physics</td>\n    </tr>\n    <tr>\n      <th>5</th>\n      <td>sch_2</td>\n      <td>sc2</td>\n      <td>chemistry</td>\n    </tr>\n    <tr>\n      <th>6</th>\n      <td>sch_11</td>\n      <td>sc4</td>\n      <td>english</td>\n    </tr>\n    <tr>\n      <th>7</th>\n      <td>sch_11</td>\n      <td>sc4</td>\n      <td>maths</td>\n    </tr>\n    <tr>\n      <th>8</th>\n      <td>sch_11</td>\n      <td>sc4</td>\n      <td>chemistry</td>\n    </tr>\n    <tr>\n      <th>9</th>\n      <td>sch_4</td>\n      <td>sc2</td>\n      <td>french</td>\n    </tr>\n    <tr>\n      <th>10</th>\n      <td>sch_4</td>\n      <td>sc2</td>\n      <td>physics</td>\n    </tr>\n    <tr>\n      <th>11</th>\n      <td>sch_4</td>\n      <td>sc2</td>\n      <td>social_studies</td>\n    </tr>\n    <tr>\n      <th>12</th>\n      <td>sch_5</td>\n      <td>sc3</td>\n      <td>social_studies</td>\n    </tr>\n    <tr>\n      <th>13</th>\n      <td>sch_5</td>\n      <td>sc3</td>\n      <td>maths</td>\n    </tr>\n    <tr>\n      <th>14</th>\n      <td>sch_5</td>\n      <td>sc3</td>\n      <td>literature</td>\n    </tr>\n    <tr>\n      <th>15</th>\n      <td>sch_21</td>\n      <td>sc2</td>\n      <td>english</td>\n    </tr>\n    <tr>\n      <th>16</th>\n      <td>sch_21</td>\n      <td>sc2</td>\n      <td>physics</td>\n    </tr>\n    <tr>\n      <th>17</th>\n      <td>sch_21</td>\n      <td>sc2</td>\n      <td>chemistry</td>\n    </tr>\n    <tr>\n      <th>18</th>\n      <td>sch_14</td>\n      <td>sc2</td>\n      <td>french</td>\n    </tr>\n    <tr>\n      <th>19</th>\n      <td>sch_14</td>\n      <td>sc2</td>\n      <td>maths</td>\n    </tr>\n    <tr>\n      <th>20</th>\n      <td>sch_14</td>\n      <td>sc2</td>\n      <td>english</td>\n    </tr>\n    <tr>\n      <th>21</th>\n      <td>sch_14</td>\n      <td>sc2</td>\n      <td>physics</td>\n    </tr>\n    <tr>\n      <th>22</th>\n      <td>sch_8</td>\n      <td>sc4</td>\n      <td>social_studies</td>\n    </tr>\n    <tr>\n      <th>23</th>\n      <td>sch_8</td>\n      <td>sc4</td>\n      <td>maths</td>\n    </tr>\n    <tr>\n      <th>24</th>\n      <td>sch_8</td>\n      <td>sc4</td>\n      <td>literature</td>\n    </tr>\n  </tbody>\n</table>\n</div>"
          },
          "metadata": {}
        }
      ]
    },
    {
      "cell_type": "code",
      "source": [
        "df = df[df[\"subjects\"].str.contains(\"english|maths|physics|chemistry\")==True]"
      ],
      "metadata": {
        "trusted": true,
        "id": "eBlQprcho2Pd"
      },
      "execution_count": null,
      "outputs": []
    },
    {
      "cell_type": "code",
      "source": [
        "df.drop('school_id', inplace=True, axis=1)"
      ],
      "metadata": {
        "trusted": true,
        "id": "J-6aaIuYo2Pe"
      },
      "execution_count": null,
      "outputs": []
    },
    {
      "cell_type": "code",
      "source": [
        "df"
      ],
      "metadata": {
        "trusted": true,
        "id": "bTJ6cHdIo2Pg",
        "outputId": "a26dda4b-e00f-4ee6-ede4-84de7b7c9208"
      },
      "execution_count": null,
      "outputs": [
        {
          "execution_count": 42,
          "output_type": "execute_result",
          "data": {
            "text/plain": "   state_code   subjects\n0         sc1    english\n1         sc1      maths\n2         sc1  chemistry\n3         sc2    english\n4         sc2    physics\n5         sc2  chemistry\n6         sc4    english\n7         sc4      maths\n8         sc4  chemistry\n10        sc2    physics\n13        sc3      maths\n15        sc2    english\n16        sc2    physics\n17        sc2  chemistry\n19        sc2      maths\n20        sc2    english\n21        sc2    physics\n23        sc4      maths",
            "text/html": "<div>\n<style scoped>\n    .dataframe tbody tr th:only-of-type {\n        vertical-align: middle;\n    }\n\n    .dataframe tbody tr th {\n        vertical-align: top;\n    }\n\n    .dataframe thead th {\n        text-align: right;\n    }\n</style>\n<table border=\"1\" class=\"dataframe\">\n  <thead>\n    <tr style=\"text-align: right;\">\n      <th></th>\n      <th>state_code</th>\n      <th>subjects</th>\n    </tr>\n  </thead>\n  <tbody>\n    <tr>\n      <th>0</th>\n      <td>sc1</td>\n      <td>english</td>\n    </tr>\n    <tr>\n      <th>1</th>\n      <td>sc1</td>\n      <td>maths</td>\n    </tr>\n    <tr>\n      <th>2</th>\n      <td>sc1</td>\n      <td>chemistry</td>\n    </tr>\n    <tr>\n      <th>3</th>\n      <td>sc2</td>\n      <td>english</td>\n    </tr>\n    <tr>\n      <th>4</th>\n      <td>sc2</td>\n      <td>physics</td>\n    </tr>\n    <tr>\n      <th>5</th>\n      <td>sc2</td>\n      <td>chemistry</td>\n    </tr>\n    <tr>\n      <th>6</th>\n      <td>sc4</td>\n      <td>english</td>\n    </tr>\n    <tr>\n      <th>7</th>\n      <td>sc4</td>\n      <td>maths</td>\n    </tr>\n    <tr>\n      <th>8</th>\n      <td>sc4</td>\n      <td>chemistry</td>\n    </tr>\n    <tr>\n      <th>10</th>\n      <td>sc2</td>\n      <td>physics</td>\n    </tr>\n    <tr>\n      <th>13</th>\n      <td>sc3</td>\n      <td>maths</td>\n    </tr>\n    <tr>\n      <th>15</th>\n      <td>sc2</td>\n      <td>english</td>\n    </tr>\n    <tr>\n      <th>16</th>\n      <td>sc2</td>\n      <td>physics</td>\n    </tr>\n    <tr>\n      <th>17</th>\n      <td>sc2</td>\n      <td>chemistry</td>\n    </tr>\n    <tr>\n      <th>19</th>\n      <td>sc2</td>\n      <td>maths</td>\n    </tr>\n    <tr>\n      <th>20</th>\n      <td>sc2</td>\n      <td>english</td>\n    </tr>\n    <tr>\n      <th>21</th>\n      <td>sc2</td>\n      <td>physics</td>\n    </tr>\n    <tr>\n      <th>23</th>\n      <td>sc4</td>\n      <td>maths</td>\n    </tr>\n  </tbody>\n</table>\n</div>"
          },
          "metadata": {}
        }
      ]
    },
    {
      "cell_type": "code",
      "source": [
        "df = pd.crosstab(df['state_code'],df['subjects']).reset_index()"
      ],
      "metadata": {
        "trusted": true,
        "id": "kOrI4NwGo2Ph"
      },
      "execution_count": null,
      "outputs": []
    },
    {
      "cell_type": "code",
      "source": [
        "df = df[[\"state_code\", \"english\", \"maths\",\"physics\", \"chemistry\"]]"
      ],
      "metadata": {
        "trusted": true,
        "id": "T4-jJsgeo2Pi"
      },
      "execution_count": null,
      "outputs": []
    },
    {
      "cell_type": "code",
      "source": [
        "df"
      ],
      "metadata": {
        "trusted": true,
        "id": "7tSlNa9Lo2Pk",
        "outputId": "acf4a56d-b767-4d83-a27c-9faeae179714"
      },
      "execution_count": null,
      "outputs": [
        {
          "execution_count": 48,
          "output_type": "execute_result",
          "data": {
            "text/plain": "subjects state_code  english  maths  physics  chemistry\n0               sc1        1      1        0          1\n1               sc2        3      1        4          2\n2               sc3        0      1        0          0\n3               sc4        1      2        0          1",
            "text/html": "<div>\n<style scoped>\n    .dataframe tbody tr th:only-of-type {\n        vertical-align: middle;\n    }\n\n    .dataframe tbody tr th {\n        vertical-align: top;\n    }\n\n    .dataframe thead th {\n        text-align: right;\n    }\n</style>\n<table border=\"1\" class=\"dataframe\">\n  <thead>\n    <tr style=\"text-align: right;\">\n      <th>subjects</th>\n      <th>state_code</th>\n      <th>english</th>\n      <th>maths</th>\n      <th>physics</th>\n      <th>chemistry</th>\n    </tr>\n  </thead>\n  <tbody>\n    <tr>\n      <th>0</th>\n      <td>sc1</td>\n      <td>1</td>\n      <td>1</td>\n      <td>0</td>\n      <td>1</td>\n    </tr>\n    <tr>\n      <th>1</th>\n      <td>sc2</td>\n      <td>3</td>\n      <td>1</td>\n      <td>4</td>\n      <td>2</td>\n    </tr>\n    <tr>\n      <th>2</th>\n      <td>sc3</td>\n      <td>0</td>\n      <td>1</td>\n      <td>0</td>\n      <td>0</td>\n    </tr>\n    <tr>\n      <th>3</th>\n      <td>sc4</td>\n      <td>1</td>\n      <td>2</td>\n      <td>0</td>\n      <td>1</td>\n    </tr>\n  </tbody>\n</table>\n</div>"
          },
          "metadata": {}
        }
      ]
    },
    {
      "cell_type": "code",
      "source": [
        "df"
      ],
      "metadata": {
        "id": "B_1tmQ7mo2Pk"
      },
      "execution_count": null,
      "outputs": []
    }
  ]
}